{
 "cells": [
  {
   "cell_type": "markdown",
   "id": "3db4144b",
   "metadata": {},
   "source": [
    "# Fundamentals of Data Science\n"
   ]
  },
  {
   "cell_type": "markdown",
   "id": "530f3570",
   "metadata": {},
   "source": [
    "# Description of the Project\n",
    "In the United Kingdom, a census is carried out every ten years to count the population, the most recent being in 2021. This national survey allows for comparisons across different demographics and equips the government with reliable population figures crucial for effective planning, policy creation, and funding distribution.\n",
    "\n",
    "To assist the local government in deciding the best course of action for an unused plot of land and where to invest, this project will employ simulated data.\n",
    "\n",
    "This mock census was generated using Python's Faker package and is specifically designed to replicate the format and limited questions of the 1881 UK census. The data collected includes the following fields:\n",
    "1. Street Number (this is set to 1 if it is a unique dwelling);\n",
    "2. Street Name;\n",
    "3. First Name of occupant;\n",
    "4. Surname of occupant;\n",
    "5. Age of occupant;\n",
    "6. Relationship to the Head of the household (anyone aged over 18 can be a “Head” – they\n",
    "are simply the person who had the responsibility to fill in the census details);\n",
    "7. Marital status (one of: Single, Married, Divorced, Widowed, or “N/A” in the case of\n",
    "minors);\n",
    "8. Gender (one of: Male, Female; note that other responses were not implemented in 1881);\n",
    "9. Occupation (this field was implemented in a modern style, rather than typical 1881\n",
    "occupations);\n",
    "10. Infirmity (we have implemented a limited set of infirmities following the style of 1881);\n",
    "11. Religion (we have implemented a set of real-world religions).\n",
    "# Objective of the Project\n",
    "(a) What should be built on an unoccupied plot of land that the local government wishes to develop? \n",
    "1. High-density housing? \n",
    "2. Low-density housing?\n",
    "3. Train station?\n",
    "4. Religious building?\n",
    "5. Emergency medical building?\n",
    "6. Something else?\n",
    "\n",
    "(b) Which one of the following options should be invested in?\n",
    "1. Employment and training?\n",
    "2. Old age care?\n",
    "3. Increase spending for schooling?\n",
    "4. General infrastructure?"
   ]
  },
  {
   "cell_type": "markdown",
   "id": "04e278f4",
   "metadata": {},
   "source": [
    "# Exploratory Data Analysis (EDA)\n",
    "## We will read in our mock Census data and perform exploratory data analysis and some data cleaning"
   ]
  },
  {
   "cell_type": "markdown",
   "id": "f26fb240",
   "metadata": {},
   "source": [
    "##  Step 1: Import Required Libraries"
   ]
  },
  {
   "cell_type": "code",
   "execution_count": 1,
   "id": "d9476b4f",
   "metadata": {},
   "outputs": [],
   "source": [
    "import pandas as pd\n",
    "import numpy as np\n",
    "import matplotlib.pyplot as plt\n",
    "import seaborn as sns\n",
    "import os\n",
    "from datetime import datetime"
   ]
  },
  {
   "cell_type": "markdown",
   "id": "f2283f26",
   "metadata": {},
   "source": [
    "##  Step 2: Load Data"
   ]
  },
  {
   "cell_type": "markdown",
   "id": "2393a58d",
   "metadata": {},
   "source": [
    "### Set global styles for plots"
   ]
  },
  {
   "cell_type": "code",
   "execution_count": 2,
   "id": "220b3a3e",
   "metadata": {},
   "outputs": [],
   "source": [
    "sns.set(style=\"whitegrid\", palette=\"pastel\")\n",
    "plt.rcParams.update({'figure.max_open_warning': 0})"
   ]
  },
  {
   "cell_type": "code",
   "execution_count": 9,
   "id": "82e3d937",
   "metadata": {},
   "outputs": [],
   "source": [
    "\n",
    "DATA_PATH = \"./T2_A24_census2.xlsx\"\n",
    "census_data = pd.read_excel(DATA_PATH)"
   ]
  },
  {
   "cell_type": "markdown",
   "id": "d652b180",
   "metadata": {},
   "source": [
    "##  Step 3: Initial Data Exploration\n"
   ]
  },
  {
   "cell_type": "code",
   "execution_count": 10,
   "id": "6b320208",
   "metadata": {},
   "outputs": [
    {
     "name": "stdout",
     "output_type": "stream",
     "text": [
      "Dataset Overview:\n",
      "<class 'pandas.core.frame.DataFrame'>\n",
      "RangeIndex: 10034 entries, 0 to 10033\n",
      "Data columns (total 11 columns):\n",
      " #   Column                         Non-Null Count  Dtype \n",
      "---  ------                         --------------  ----- \n",
      " 0   House Number                   10034 non-null  int64 \n",
      " 1   Street                         10034 non-null  object\n",
      " 2   First Name                     10034 non-null  object\n",
      " 3   Surname                        10026 non-null  object\n",
      " 4   Age                            10034 non-null  int64 \n",
      " 5   Relationship to Head of House  9322 non-null   object\n",
      " 6   Marital Status                 7859 non-null   object\n",
      " 7   Gender                         10034 non-null  object\n",
      " 8   Occupation                     10034 non-null  object\n",
      " 9   Infirmity                      140 non-null    object\n",
      " 10  Religion                       8763 non-null   object\n",
      "dtypes: int64(2), object(9)\n",
      "memory usage: 862.4+ KB\n",
      "\n",
      "Summary Statistics:\n",
      "\n",
      "        House Number       Street First Name Surname           Age  \\\n",
      "count   10034.000000        10034      10034   10026  10034.000000   \n",
      "unique           NaN          135        364     701           NaN   \n",
      "top              NaN  Bright Road      Grace   Smith           NaN   \n",
      "freq             NaN          864         47     307           NaN   \n",
      "mean       48.074846          NaN        NaN     NaN     37.120690   \n",
      "std        55.467737          NaN        NaN     NaN     21.957778   \n",
      "min         1.000000          NaN        NaN     NaN      0.000000   \n",
      "25%        11.000000          NaN        NaN     NaN     19.000000   \n",
      "50%        26.000000          NaN        NaN     NaN     36.000000   \n",
      "75%        55.000000          NaN        NaN     NaN     53.000000   \n",
      "max       244.000000          NaN        NaN     NaN    112.000000   \n",
      "\n",
      "       Relationship to Head of House Marital Status  Gender Occupation  \\\n",
      "count                           9322           7859   10034      10034   \n",
      "unique                            20              4       2       1129   \n",
      "top                             Head         Single  Female    Student   \n",
      "freq                            3868           3582    5300       1795   \n",
      "mean                             NaN            NaN     NaN        NaN   \n",
      "std                              NaN            NaN     NaN        NaN   \n",
      "min                              NaN            NaN     NaN        NaN   \n",
      "25%                              NaN            NaN     NaN        NaN   \n",
      "50%                              NaN            NaN     NaN        NaN   \n",
      "75%                              NaN            NaN     NaN        NaN   \n",
      "max                              NaN            NaN     NaN        NaN   \n",
      "\n",
      "            Infirmity   Religion  \n",
      "count             140       8763  \n",
      "unique              8         13  \n",
      "top     Broken Finger  Christian  \n",
      "freq               24       4437  \n",
      "mean              NaN        NaN  \n",
      "std               NaN        NaN  \n",
      "min               NaN        NaN  \n",
      "25%               NaN        NaN  \n",
      "50%               NaN        NaN  \n",
      "75%               NaN        NaN  \n",
      "max               NaN        NaN  \n",
      "Initial Dataset Shape: (10034, 11)\n",
      "Missing values per column:\n",
      " House Number                        0\n",
      "Street                              0\n",
      "First Name                          0\n",
      "Surname                             8\n",
      "Age                                 0\n",
      "Relationship to Head of House     712\n",
      "Marital Status                   2175\n",
      "Gender                              0\n",
      "Occupation                          0\n",
      "Infirmity                        9894\n",
      "Religion                         1271\n",
      "dtype: int64\n",
      "Data types:\n",
      " House Number                      int64\n",
      "Street                           object\n",
      "First Name                       object\n",
      "Surname                          object\n",
      "Age                               int64\n",
      "Relationship to Head of House    object\n",
      "Marital Status                   object\n",
      "Gender                           object\n",
      "Occupation                       object\n",
      "Infirmity                        object\n",
      "Religion                         object\n",
      "dtype: object\n",
      "\n",
      "Unique values in Street:\n",
      "\n",
      "Street\n",
      "Bright Road          864\n",
      "Trawlerburn Lane     572\n",
      "Unity Road           571\n",
      "Price Road           374\n",
      "Bulldognet Lane      288\n",
      "                    ... \n",
      "Holden Barn            1\n",
      "George Citadel         1\n",
      "Porter Lighthouse      1\n",
      "Davies Spire           1\n",
      "Falcon Inn             1\n",
      "Name: count, Length: 135, dtype: int64\n",
      "\n",
      "Unique values in First Name:\n",
      "\n",
      "First Name\n",
      "Grace       47\n",
      "Susan       44\n",
      "Jade        44\n",
      "Mandy       42\n",
      "Charlene    42\n",
      "            ..\n",
      "Malcolm     16\n",
      "Ricky       16\n",
      "Mary        16\n",
      "Aaron       15\n",
      "Jay         13\n",
      "Name: count, Length: 364, dtype: int64\n",
      "\n",
      "Unique values in Surname:\n",
      "\n",
      "Surname\n",
      "Smith               307\n",
      "Jones               280\n",
      "Williams            181\n",
      "Brown               118\n",
      "Taylor              117\n",
      "                   ... \n",
      "Morris-Dyer           1\n",
      "Anderson-Coleman      1\n",
      "Mistry                1\n",
      "Smith-Lane            1\n",
      "Thomas-Williams       1\n",
      "Name: count, Length: 701, dtype: int64\n",
      "\n",
      "Unique values in Relationship to Head of House:\n",
      "\n",
      "Relationship to Head of House\n",
      "Head                     3868\n",
      "Son                      1570\n",
      "Daughter                 1461\n",
      "Husband                  1004\n",
      "Wife                      392\n",
      "Partner                   313\n",
      "Lodger                    285\n",
      "Granddaughter             119\n",
      "Grandson                   98\n",
      "Sibling                    44\n",
      "Cousin                     42\n",
      "Visitor                    34\n",
      "Step-Daughter              18\n",
      "Adopted Son                18\n",
      "Adopted Daughter           17\n",
      "Step-Son                   15\n",
      "Niece                      12\n",
      "Nephew                      7\n",
      "Daughter-in-law             3\n",
      "Adopted Granddaughter       2\n",
      "Name: count, dtype: int64\n",
      "\n",
      "Unique values in Marital Status:\n",
      "\n",
      "Marital Status\n",
      "Single      3582\n",
      "Married     2841\n",
      "Divorced     956\n",
      "Widowed      480\n",
      "Name: count, dtype: int64\n",
      "\n",
      "Unique values in Gender:\n",
      "\n",
      "Gender\n",
      "Female    5300\n",
      "Male      4734\n",
      "Name: count, dtype: int64\n",
      "\n",
      "Unique values in Occupation:\n",
      "\n",
      "Occupation\n",
      "Student                                                  1795\n",
      "Unemployed                                                701\n",
      "University Student                                        644\n",
      "Child                                                     558\n",
      "PhD Student                                                19\n",
      "                                                         ... \n",
      "Retired Diagnostic radiographer                             1\n",
      "Retired Associate Professor                                 1\n",
      "Retired Graphic designer                                    1\n",
      "Retired Programme researcher, broadcasting/film/video       1\n",
      "Retired Logistics and distribution manager                  1\n",
      "Name: count, Length: 1129, dtype: int64\n",
      "\n",
      "Unique values in Infirmity:\n",
      "\n",
      "Infirmity\n",
      "Broken Finger          24\n",
      "Physical Disability    21\n",
      "Mental Disability      20\n",
      "Disabled               20\n",
      "                       17\n",
      "Blind                  14\n",
      "Unknown Infection      12\n",
      "Deaf                   12\n",
      "Name: count, dtype: int64\n",
      "\n",
      "Unique values in Religion:\n",
      "\n",
      "Religion\n",
      "Christian            4437\n",
      "No Religion          4042\n",
      "Muslim                157\n",
      "Hindu                  56\n",
      "Sikh                   52\n",
      "Bahai                   5\n",
      "The Chantry             4\n",
      "Catholic                3\n",
      "Church of England       2\n",
      "Greek                   2\n",
      "Oasis                   1\n",
      "Asia                    1\n",
      "Agnostic                1\n",
      "Name: count, dtype: int64\n"
     ]
    }
   ],
   "source": [
    "# General Overview\n",
    "print(\"Dataset Overview:\")\n",
    "census_data.info()\n",
    "\n",
    "# Summary Statistics\n",
    "print(\"\\nSummary Statistics:\\n\")\n",
    "print(census_data.describe(include='all'))\n",
    "\n",
    "print(\"Initial Dataset Shape:\", census_data.shape)\n",
    "print(\"Missing values per column:\\n\", census_data.isna().sum())\n",
    "print(\"Data types:\\n\", census_data.dtypes)\n",
    "\n",
    "# Unique Values in Categorical Columns\n",
    "categorical_columns = census_data.select_dtypes(include=['object']).columns\n",
    "for column in categorical_columns:\n",
    "    print(f\"\\nUnique values in {column}:\\n\")\n",
    "    print(census_data[column].value_counts())"
   ]
  },
  {
   "cell_type": "code",
   "execution_count": 20,
   "id": "47ce0969",
   "metadata": {},
   "outputs": [
    {
     "data": {
      "image/png": "[encoded data removed]",
      "text/plain": [
       "<Figure size 1000x600 with 1 Axes>"
      ]
     },
     "metadata": {},
     "output_type": "display_data"
    }
   ],
   "source": [
    "# Visualizing missing data using heatmap\n",
    "plt.figure(figsize=(10, 6))\n",
    "sns.heatmap(census_data.isnull(), cbar=False, cmap='coolwarm')\n",
    "plt.title(\"Missing Census Data Heatmap\")\n",
    "plt.show()"
   ]
  },
  {
   "cell_type": "markdown",
   "id": "7b5a71df",
   "metadata": {},
   "source": [
    "#### Insight on Missing Data\n",
    "I observed notable missing information in several columns. Specifically, Infirmity and Marital Status contain a large number of missing entries, visually represented by the extensive red areas. This substantial absence of data in these fields will likely require attention through methods like imputation or deletion, depending on the analysis goals. Religion, Age, Age Group, and Relationship to Head of House also exhibit some missing values, though to a lesser extent. "
   ]
  },
  {
   "cell_type": "markdown",
   "id": "1c61b8b7",
   "metadata": {},
   "source": [
    "# Data Cleaning Methodology \n",
    "## Rationale: Ensure data consistency, resolve nulls, and align with census logic."
   ]
  },
  {
   "cell_type": "markdown",
   "id": "c3a3084d",
   "metadata": {},
   "source": [
    "### 1. Ensure Age is valid (non-negative, realistic)"
   ]
  },
  {
   "cell_type": "code",
   "execution_count": 21,
   "id": "989b308e",
   "metadata": {},
   "outputs": [
    {
     "data": {
      "text/plain": [
       "array([ 46,  28,  26,  41,  43,  59,  53,  48,  60,  31,  29,  19,  58,\n",
       "        61,  16,  77,  42,  39,  33,  47,  80,  54,  71,  75,  67,  70,\n",
       "        37,  57,  62,  25,  40,   8,   5,  36,   7,  34,  30,  14,  63,\n",
       "        44,  64,  38,  81,  83,   2,  21,  20,  17,  50,  56,  52,  10,\n",
       "        66,   0,  35,   4,   1,  55,  18,  13,   9,  22,  27,  32,  23,\n",
       "         6,  73,  79,  49,  51,  24,  15,  69,  11,  45,  78,  84,  74,\n",
       "        85,  72,  76,  88,  94,  82,  90,  12,  68, 101,  89,  65,   3,\n",
       "       104, 102, 100,  92,  86, 105, 110,  95,  97,  87,  99,  96,  93,\n",
       "       108,  98,  91])"
      ]
     },
     "execution_count": 21,
     "metadata": {},
     "output_type": "execute_result"
    }
   ],
   "source": [
    "# Checking unique values in the 'age' column for outliers \n",
    "census_data['Age'].unique()"
   ]
  },
  {
   "cell_type": "code",
   "execution_count": 22,
   "id": "409af1b7",
   "metadata": {},
   "outputs": [
    {
     "data": {
      "text/html": [
       "<div>\n",
       "<style scoped>\n",
       "    .dataframe tbody tr th:only-of-type {\n",
       "        vertical-align: middle;\n",
       "    }\n",
       "\n",
       "    .dataframe tbody tr th {\n",
       "        vertical-align: top;\n",
       "    }\n",
       "\n",
       "    .dataframe thead th {\n",
       "        text-align: right;\n",
       "    }\n",
       "</style>\n",
       "<table border=\"1\" class=\"dataframe\">\n",
       "  <thead>\n",
       "    <tr style=\"text-align: right;\">\n",
       "      <th></th>\n",
       "      <th>House Number</th>\n",
       "      <th>Street</th>\n",
       "      <th>First Name</th>\n",
       "      <th>Surname</th>\n",
       "      <th>Age</th>\n",
       "      <th>Relationship to Head of House</th>\n",
       "      <th>Marital Status</th>\n",
       "      <th>Gender</th>\n",
       "      <th>Occupation</th>\n",
       "      <th>Infirmity</th>\n",
       "      <th>Religion</th>\n",
       "    </tr>\n",
       "  </thead>\n",
       "  <tbody>\n",
       "  </tbody>\n",
       "</table>\n",
       "</div>"
      ],
      "text/plain": [
       "Empty DataFrame\n",
       "Columns: [House Number, Street, First Name, Surname, Age, Relationship to Head of House, Marital Status, Gender, Occupation, Infirmity, Religion]\n",
       "Index: []"
      ]
     },
     "execution_count": 22,
     "metadata": {},
     "output_type": "execute_result"
    }
   ],
   "source": [
    "#Let's select the rows where the 'Age' column contains a null or NaN value\n",
    "census_data[census_data['Age'] == \" \" ]"
   ]
  },
  {
   "cell_type": "markdown",
   "id": "4cc52c3b",
   "metadata": {},
   "source": [
    "Now the 'Age' column contains no missing values and has a consistent data type, though the possibility of age misreporting, common in censuses, exists."
   ]
  },
  {
   "cell_type": "markdown",
   "id": "d7c0bd29",
   "metadata": {},
   "source": [
    "### Identifying and correcting records where individuals under 18 are incorrectly listed as married."
   ]
  },
  {
   "cell_type": "code",
   "execution_count": 23,
   "id": "a360cf23",
   "metadata": {},
   "outputs": [
    {
     "name": "stdout",
     "output_type": "stream",
     "text": [
      "Initially, 33 individuals under the age of 18 were recorded as married.\n",
      "The marital status for these records has been updated to 'Single'.\n"
     ]
    }
   ],
   "source": [
    "# Identify and correct inconsistencies: Individuals under 18 marked as \"Married\"\n",
    "underage_married = census_data[(census_data[\"Age\"] < 18) & (census_data[\"Marital Status\"] == \"Married\")]\n",
    "\n",
    "# Report the initial findings\n",
    "print(f\"Initially, {len(underage_married)} individuals under the age of 18 were recorded as married.\")\n",
    "\n",
    "# Update the marital status for these individuals to \"Single\"\n",
    "census_data.loc[(census_data[\"Age\"] < 18) & (census_data[\"Marital Status\"] == \"Married\"), \"Marital Status\"] = \"Single\"\n",
    "print(\"The marital status for these records has been updated to 'Single'.\")"
   ]
  },
  {
   "cell_type": "code",
   "execution_count": 72,
   "id": "d73c21fe",
   "metadata": {},
   "outputs": [
    {
     "data": {
      "text/plain": [
       "count    10024.000000\n",
       "mean        37.094473\n",
       "std         21.938327\n",
       "min          0.000000\n",
       "25%         19.000000\n",
       "50%         36.000000\n",
       "75%         53.000000\n",
       "max        110.000000\n",
       "Name: Age, dtype: float64"
      ]
     },
     "execution_count": 72,
     "metadata": {},
     "output_type": "execute_result"
    }
   ],
   "source": [
    "census_data['Age'].describe()"
   ]
  },
  {
   "cell_type": "markdown",
   "id": "0122af62",
   "metadata": {},
   "source": [
    "#### Age Distribution Summary:\n",
    "\n",
    "* The dataset includes ages ranging from a **minimum of 0** to a **maximum of 110**.\n",
    "* The **average age (mean)** within this population is approximately **37.09 years**.\n",
    "* **25% of the individuals** in the dataset are **19 years old or younger**.\n",
    "* The **median age (50th percentile)** is **36 years**, indicating that half of the population is below this age and half is above.\n",
    "* **75% of the individuals** are **53 years old or younger**.\n",
    "\n",
    "##### The age distribution suggests a significant portion of the population falls within typical working-age ranges."
   ]
  },
  {
   "cell_type": "markdown",
   "id": "f65a8002",
   "metadata": {},
   "source": [
    "## Age Pyramid for Insight Extraction"
   ]
  },
  {
   "cell_type": "code",
   "execution_count": 73,
   "id": "12576f8d",
   "metadata": {},
   "outputs": [
    {
     "data": {
      "image/png": "[encoded data removed]",
      "text/plain": [
       "<Figure size 1000x800 with 1 Axes>"
      ]
     },
     "metadata": {},
     "output_type": "display_data"
    }
   ],
   "source": [
    "# Define the age ranges and their corresponding labels for the population pyramid\n",
    "age_bins = [0, 5, 10, 15, 20, 25, 30, 35, 40, 45, 50, 55, 60, 65, 70, 75, 80, 85, 90, 95, 100, 105, 110]\n",
    "age_labels = ['0-4', '5-9', '10-14', '15-19', '20-24', '25-29', '30-34', '35-39', '40-44', '45-49', '50-54', '55-59', '60-64', '65-69', '70-74', '75-79', '80-84', '85-89', '90-94', '95-99', '100-104', '105+']\n",
    "\n",
    "# Categorize individuals into the defined age groups\n",
    "census_data['Age Group'] = pd.cut(census_data['Age'], bins=age_bins, labels=age_labels, right=False)\n",
    "\n",
    "# Calculate the number of individuals in each age group, separated by gender\n",
    "# The FutureWarning indicates a change in pandas' groupby behavior. To address it explicitly:\n",
    "age_gender_counts = census_data.groupby(['Age Group', 'Gender'], observed=False).size().unstack(fill_value=0)\n",
    "\n",
    "# Separate the counts for male and female populations\n",
    "male_population = -age_gender_counts.get('Male', 0)  # Use negative values for the left side of the pyramid\n",
    "female_population = age_gender_counts.get('Female', 0)\n",
    "\n",
    "# Generate the age pyramid visualization\n",
    "plt.figure(figsize=(10, 8))\n",
    "plt.barh(age_gender_counts.index, male_population, color='#377EB8', label='Male')\n",
    "plt.barh(age_gender_counts.index, female_population, color='#FF69B4', label='Female')\n",
    "\n",
    "# Customize the plot with labels and formatting\n",
    "plt.xlabel('Population Count')\n",
    "plt.ylabel('Age Group')\n",
    "plt.title('Population Age Pyramid')\n",
    "plt.axvline(0, color='black', linewidth=0.5)  # Add a vertical line at zero\n",
    "plt.legend(title='Gender')\n",
    "plt.grid(axis='x', linestyle='--', alpha=0.7)  # Add a horizontal grid for better readability\n",
    "plt.tight_layout()  # Adjust layout to prevent labels from overlapping\n",
    "\n",
    "# Display the generated age pyramid\n",
    "plt.show()"
   ]
  },
  {
   "cell_type": "markdown",
   "id": "53707ddb",
   "metadata": {},
   "source": [
    "### Key Insights from the Age Pyramid\n",
    "\n",
    "Based on the generated age pyramid, we can observe the following key demographic insights:\n",
    "\n",
    "* **1. Youth Bulge:** The pyramid exhibits a wide base, signifying a substantial proportion of young individuals within the population. For instance, the 0-4 and 5-9 age cohorts each represent a significant number of people (e.g., over 200 in the example). This \"youth bulge\" indicates a population distribution skewed towards the younger age spectrum.\n",
    "\n",
    "* **2. Aging Population:** Conversely, the upper tiers of the age pyramid demonstrate a progressive narrowing. The 100-104 and 105+ age categories contain a considerably smaller number of individuals (e.g., fewer than 50 combined). This tapering at the apex suggests an aging demographic, with a relatively smaller segment of the population reaching advanced ages.\n",
    "\n",
    "* **3. Gender Balance:** An examination of the gender distribution reveals a generally balanced representation of males and females across the majority of age groups. The horizontal bars for each gender are relatively similar in length, indicating near parity, with only minor variations observed in a few specific age brackets.\n",
    "\n",
    "* **4. Dependency Ratio Implications:** While a precise dependency ratio requires further calculation, the shape of the age pyramid provides indicative insights. The population under 15 years of age constitutes a notable proportion (e.g., over 30% based on the wide base), while those over 65 represent a smaller segment (e.g., around 10% based on the tapering top). This configuration suggests a potentially high dependency ratio, implying a significant number of dependents (youth and elderly) relative to the working-age population, which could have implications for social and economic support systems.\n",
    "\n",
    "* **5. Population in Transition:** Overall, the structure of this age pyramid indicates a population undergoing a demographic transition. The presence of a large youth segment alongside the trend of increasing longevity and an aging upper structure presents a dynamic demographic landscape. Addressing the diverse needs of both the substantial younger population and the growing older population will be a crucial consideration for future planning and policy development in Switzerland."
   ]
  },
  {
   "cell_type": "markdown",
   "id": "55494ce3",
   "metadata": {},
   "source": [
    "## 2. Normalize Infirmity values"
   ]
  },
  {
   "cell_type": "code",
   "execution_count": 28,
   "id": "7e496bd2",
   "metadata": {},
   "outputs": [
    {
     "data": {
      "text/plain": [
       "array([nan, 'Blind', ' ', 'Disabled', 'Mental Disability',\n",
       "       'Broken Finger', 'Unknown Infection', 'Physical Disability',\n",
       "       'Deaf'], dtype=object)"
      ]
     },
     "execution_count": 28,
     "metadata": {},
     "output_type": "execute_result"
    }
   ],
   "source": [
    "census_data['Infirmity'].unique()"
   ]
  },
  {
   "cell_type": "markdown",
   "id": "b772dc64",
   "metadata": {},
   "source": [
    "### After checking the outcome of the Infirmity Column, Clean the Infirmity Column by Infering no Infirmity for empty Strings and Updating minor sicknesses "
   ]
  },
  {
   "cell_type": "code",
   "execution_count": 34,
   "id": "f37c4c0d",
   "metadata": {},
   "outputs": [
    {
     "name": "stdout",
     "output_type": "stream",
     "text": [
      "['No Infirmity' 'Blind' 'Disabled' 'Mental Disability'\n",
      " 'Physical Disability' 'Deaf']\n"
     ]
    }
   ],
   "source": [
    "# Replacing null values in the 'Infirmity' column with 'No Infirmity'\n",
    "census_data['Infirmity'] = census_data['Infirmity'].fillna('No Infirmity')\n",
    "\n",
    "#Filling missing values with None\n",
    "census_data['Infirmity'] = census_data['Infirmity'].replace(' ', 'No Infirmity')\n",
    "\n",
    "# Updating unhealthy and unknown infection values in the 'Infirmity' column to 'No Infirmity'\n",
    "census_data['Infirmity'] = census_data['Infirmity'].replace(['Broken Finger', 'Unknown Infection'], 'No Infirmity')\n",
    "\n",
    "# Display the unique values to verify the changes\n",
    "print(census_data['Infirmity'].unique())"
   ]
  },
  {
   "cell_type": "markdown",
   "id": "98f68b00",
   "metadata": {},
   "source": [
    "## 3. Ensure 'Relationship to Head' field is consistent"
   ]
  },
  {
   "cell_type": "code",
   "execution_count": 35,
   "id": "c50ad136",
   "metadata": {},
   "outputs": [
    {
     "data": {
      "text/html": [
       "<div>\n",
       "<style scoped>\n",
       "    .dataframe tbody tr th:only-of-type {\n",
       "        vertical-align: middle;\n",
       "    }\n",
       "\n",
       "    .dataframe tbody tr th {\n",
       "        vertical-align: top;\n",
       "    }\n",
       "\n",
       "    .dataframe thead th {\n",
       "        text-align: right;\n",
       "    }\n",
       "</style>\n",
       "<table border=\"1\" class=\"dataframe\">\n",
       "  <thead>\n",
       "    <tr style=\"text-align: right;\">\n",
       "      <th></th>\n",
       "      <th>House Number</th>\n",
       "      <th>Street</th>\n",
       "      <th>First Name</th>\n",
       "      <th>Surname</th>\n",
       "      <th>Age</th>\n",
       "      <th>Relationship to Head of House</th>\n",
       "      <th>Marital Status</th>\n",
       "      <th>Gender</th>\n",
       "      <th>Occupation</th>\n",
       "      <th>Infirmity</th>\n",
       "      <th>Religion</th>\n",
       "      <th>Age Group</th>\n",
       "    </tr>\n",
       "  </thead>\n",
       "  <tbody>\n",
       "    <tr>\n",
       "      <th>20</th>\n",
       "      <td>8</td>\n",
       "      <td>Jackson Close</td>\n",
       "      <td>Marilyn</td>\n",
       "      <td>Richards</td>\n",
       "      <td>39</td>\n",
       "      <td>NaN</td>\n",
       "      <td>Single</td>\n",
       "      <td>Female</td>\n",
       "      <td>Community arts worker</td>\n",
       "      <td>No Infirmity</td>\n",
       "      <td>No Religion</td>\n",
       "      <td>35-39</td>\n",
       "    </tr>\n",
       "    <tr>\n",
       "      <th>21</th>\n",
       "      <td>8</td>\n",
       "      <td>Jackson Close</td>\n",
       "      <td>Elliott</td>\n",
       "      <td>Vaughan</td>\n",
       "      <td>33</td>\n",
       "      <td>NaN</td>\n",
       "      <td>Single</td>\n",
       "      <td>Male</td>\n",
       "      <td>Unemployed</td>\n",
       "      <td>No Infirmity</td>\n",
       "      <td>No Religion</td>\n",
       "      <td>30-34</td>\n",
       "    </tr>\n",
       "    <tr>\n",
       "      <th>22</th>\n",
       "      <td>8</td>\n",
       "      <td>Jackson Close</td>\n",
       "      <td>Dorothy</td>\n",
       "      <td>Shepherd</td>\n",
       "      <td>47</td>\n",
       "      <td>NaN</td>\n",
       "      <td>Single</td>\n",
       "      <td>Female</td>\n",
       "      <td>Unemployed</td>\n",
       "      <td>No Infirmity</td>\n",
       "      <td>Christian</td>\n",
       "      <td>45-49</td>\n",
       "    </tr>\n",
       "    <tr>\n",
       "      <th>23</th>\n",
       "      <td>8</td>\n",
       "      <td>Jackson Close</td>\n",
       "      <td>Michael</td>\n",
       "      <td>Johnson</td>\n",
       "      <td>39</td>\n",
       "      <td>NaN</td>\n",
       "      <td>Single</td>\n",
       "      <td>Male</td>\n",
       "      <td>Structural engineer</td>\n",
       "      <td>No Infirmity</td>\n",
       "      <td>Oasis</td>\n",
       "      <td>35-39</td>\n",
       "    </tr>\n",
       "    <tr>\n",
       "      <th>33</th>\n",
       "      <td>13</td>\n",
       "      <td>Jackson Close</td>\n",
       "      <td>Mary</td>\n",
       "      <td>Jones</td>\n",
       "      <td>57</td>\n",
       "      <td>NaN</td>\n",
       "      <td>Single</td>\n",
       "      <td>Female</td>\n",
       "      <td>Consulting civil engineer</td>\n",
       "      <td>No Infirmity</td>\n",
       "      <td>Christian</td>\n",
       "      <td>55-59</td>\n",
       "    </tr>\n",
       "    <tr>\n",
       "      <th>...</th>\n",
       "      <td>...</td>\n",
       "      <td>...</td>\n",
       "      <td>...</td>\n",
       "      <td>...</td>\n",
       "      <td>...</td>\n",
       "      <td>...</td>\n",
       "      <td>...</td>\n",
       "      <td>...</td>\n",
       "      <td>...</td>\n",
       "      <td>...</td>\n",
       "      <td>...</td>\n",
       "      <td>...</td>\n",
       "    </tr>\n",
       "    <tr>\n",
       "      <th>9967</th>\n",
       "      <td>1</td>\n",
       "      <td>Evans Manorhouse</td>\n",
       "      <td>Rosemary</td>\n",
       "      <td>Wilson</td>\n",
       "      <td>20</td>\n",
       "      <td>NaN</td>\n",
       "      <td>Single</td>\n",
       "      <td>Female</td>\n",
       "      <td>University Student</td>\n",
       "      <td>No Infirmity</td>\n",
       "      <td>No Religion</td>\n",
       "      <td>20-24</td>\n",
       "    </tr>\n",
       "    <tr>\n",
       "      <th>9968</th>\n",
       "      <td>1</td>\n",
       "      <td>Evans Manorhouse</td>\n",
       "      <td>Donald</td>\n",
       "      <td>Watts</td>\n",
       "      <td>49</td>\n",
       "      <td>NaN</td>\n",
       "      <td>Single</td>\n",
       "      <td>Male</td>\n",
       "      <td>General practice doctor</td>\n",
       "      <td>No Infirmity</td>\n",
       "      <td>No Religion</td>\n",
       "      <td>45-49</td>\n",
       "    </tr>\n",
       "    <tr>\n",
       "      <th>9969</th>\n",
       "      <td>1</td>\n",
       "      <td>Evans Manorhouse</td>\n",
       "      <td>Eric</td>\n",
       "      <td>Howell</td>\n",
       "      <td>23</td>\n",
       "      <td>NaN</td>\n",
       "      <td>Single</td>\n",
       "      <td>Male</td>\n",
       "      <td>Insurance underwriter</td>\n",
       "      <td>No Infirmity</td>\n",
       "      <td>No Religion</td>\n",
       "      <td>20-24</td>\n",
       "    </tr>\n",
       "    <tr>\n",
       "      <th>9970</th>\n",
       "      <td>1</td>\n",
       "      <td>Evans Manorhouse</td>\n",
       "      <td>William</td>\n",
       "      <td>West</td>\n",
       "      <td>23</td>\n",
       "      <td>NaN</td>\n",
       "      <td>Single</td>\n",
       "      <td>Male</td>\n",
       "      <td>Lecturer, further education</td>\n",
       "      <td>No Infirmity</td>\n",
       "      <td>Christian</td>\n",
       "      <td>20-24</td>\n",
       "    </tr>\n",
       "    <tr>\n",
       "      <th>9971</th>\n",
       "      <td>1</td>\n",
       "      <td>Evans Manorhouse</td>\n",
       "      <td>Chelsea</td>\n",
       "      <td>Cox</td>\n",
       "      <td>59</td>\n",
       "      <td>NaN</td>\n",
       "      <td>Single</td>\n",
       "      <td>Female</td>\n",
       "      <td>Medical technical officer</td>\n",
       "      <td>No Infirmity</td>\n",
       "      <td>Christian</td>\n",
       "      <td>55-59</td>\n",
       "    </tr>\n",
       "  </tbody>\n",
       "</table>\n",
       "<p>712 rows × 12 columns</p>\n",
       "</div>"
      ],
      "text/plain": [
       "      House Number            Street First Name   Surname  Age  \\\n",
       "20               8     Jackson Close    Marilyn  Richards   39   \n",
       "21               8     Jackson Close    Elliott   Vaughan   33   \n",
       "22               8     Jackson Close    Dorothy  Shepherd   47   \n",
       "23               8     Jackson Close    Michael   Johnson   39   \n",
       "33              13     Jackson Close       Mary     Jones   57   \n",
       "...            ...               ...        ...       ...  ...   \n",
       "9967             1  Evans Manorhouse   Rosemary    Wilson   20   \n",
       "9968             1  Evans Manorhouse     Donald     Watts   49   \n",
       "9969             1  Evans Manorhouse       Eric    Howell   23   \n",
       "9970             1  Evans Manorhouse    William      West   23   \n",
       "9971             1  Evans Manorhouse    Chelsea       Cox   59   \n",
       "\n",
       "     Relationship to Head of House Marital Status  Gender  \\\n",
       "20                             NaN         Single  Female   \n",
       "21                             NaN         Single    Male   \n",
       "22                             NaN         Single  Female   \n",
       "23                             NaN         Single    Male   \n",
       "33                             NaN         Single  Female   \n",
       "...                            ...            ...     ...   \n",
       "9967                           NaN         Single  Female   \n",
       "9968                           NaN         Single    Male   \n",
       "9969                           NaN         Single    Male   \n",
       "9970                           NaN         Single    Male   \n",
       "9971                           NaN         Single  Female   \n",
       "\n",
       "                       Occupation     Infirmity     Religion Age Group  \n",
       "20          Community arts worker  No Infirmity  No Religion     35-39  \n",
       "21                     Unemployed  No Infirmity  No Religion     30-34  \n",
       "22                     Unemployed  No Infirmity    Christian     45-49  \n",
       "23            Structural engineer  No Infirmity        Oasis     35-39  \n",
       "33      Consulting civil engineer  No Infirmity    Christian     55-59  \n",
       "...                           ...           ...          ...       ...  \n",
       "9967           University Student  No Infirmity  No Religion     20-24  \n",
       "9968      General practice doctor  No Infirmity  No Religion     45-49  \n",
       "9969        Insurance underwriter  No Infirmity  No Religion     20-24  \n",
       "9970  Lecturer, further education  No Infirmity    Christian     20-24  \n",
       "9971    Medical technical officer  No Infirmity    Christian     55-59  \n",
       "\n",
       "[712 rows x 12 columns]"
      ]
     },
     "execution_count": 35,
     "metadata": {},
     "output_type": "execute_result"
    }
   ],
   "source": [
    "census_data[census_data['Relationship to Head of House'].isna()] "
   ]
  },
  {
   "cell_type": "code",
   "execution_count": 36,
   "id": "ec9c89a7",
   "metadata": {},
   "outputs": [
    {
     "data": {
      "text/plain": [
       "array(['Head', 'Daughter', 'Husband', 'Cousin', 'Son', 'Wife', nan,\n",
       "       'Partner', 'Lodger', 'Visitor', 'Adopted Granddaughter',\n",
       "       'Step-Son', 'Granddaughter', 'Grandson', 'Sibling',\n",
       "       'Adopted Daughter', 'Step-Daughter', 'Niece', 'Adopted Son',\n",
       "       'Daughter-in-law', 'Nephew'], dtype=object)"
      ]
     },
     "execution_count": 36,
     "metadata": {},
     "output_type": "execute_result"
    }
   ],
   "source": [
    "census_data['Relationship to Head of House'].unique()"
   ]
  },
  {
   "cell_type": "markdown",
   "id": "475d2383",
   "metadata": {},
   "source": [
    " 712 NaN values in the 'Relationship to Head of House' that needs to be corrected"
   ]
  },
  {
   "cell_type": "markdown",
   "id": "fa33bb23",
   "metadata": {},
   "source": [
    "### Clean up 'Relationship to Head of House' with Ages and Weighted Random Sampling"
   ]
  },
  {
   "cell_type": "code",
   "execution_count": 37,
   "id": "d8791a49",
   "metadata": {},
   "outputs": [],
   "source": [
    "\n",
    "# Update the 'Relationship to Head of House' column for individuals less than 18 and gender is male to Son\n",
    "census_data.loc[(census_data['Age'] <= 18) & (census_data['Gender'] == 'Male') & (census_data['Relationship to Head of House'].isna()), \n",
    "'Relationship to Head of House'] = 'Son'\n",
    "\n",
    "# Update the 'Relationship to Head of House' column for individuals less than 18 and gender is female to Daughter\n",
    "census_data.loc[(census_data['Age'] <= 18) & (census_data['Gender'] == 'Female') & (census_data['Relationship to Head of House'].isna()), \n",
    "'Relationship to Head of House'] = 'Daughter'\n",
    "\n",
    "# Calculate the number of remaining missing values in the 'Relationship to Head of House' column\n",
    "missing_relationships = census_data['Relationship to Head of House'].isna().sum()\n",
    "\n",
    "\n",
    "# Use weighted random sampling to fill the remaining NaN values\n",
    "relationship_freqs = census_data['Relationship to Head of House'].value_counts(normalize=True)\n",
    "census_data.loc[census_data['Relationship to Head of House'].isna(), 'Relationship to Head of House'] = np.random.choice(relationship_freqs.index, size=missing_relationships, p=relationship_freqs.values)"
   ]
  },
  {
   "cell_type": "markdown",
   "id": "52224fda",
   "metadata": {},
   "source": [
    "Let's Check if the 'Relationship to Head of House' is properly fixed"
   ]
  },
  {
   "cell_type": "code",
   "execution_count": 38,
   "id": "8a2a254b",
   "metadata": {},
   "outputs": [
    {
     "data": {
      "text/html": [
       "<div>\n",
       "<style scoped>\n",
       "    .dataframe tbody tr th:only-of-type {\n",
       "        vertical-align: middle;\n",
       "    }\n",
       "\n",
       "    .dataframe tbody tr th {\n",
       "        vertical-align: top;\n",
       "    }\n",
       "\n",
       "    .dataframe thead th {\n",
       "        text-align: right;\n",
       "    }\n",
       "</style>\n",
       "<table border=\"1\" class=\"dataframe\">\n",
       "  <thead>\n",
       "    <tr style=\"text-align: right;\">\n",
       "      <th></th>\n",
       "      <th>House Number</th>\n",
       "      <th>Street</th>\n",
       "      <th>First Name</th>\n",
       "      <th>Surname</th>\n",
       "      <th>Age</th>\n",
       "      <th>Relationship to Head of House</th>\n",
       "      <th>Marital Status</th>\n",
       "      <th>Gender</th>\n",
       "      <th>Occupation</th>\n",
       "      <th>Infirmity</th>\n",
       "      <th>Religion</th>\n",
       "      <th>Age Group</th>\n",
       "    </tr>\n",
       "  </thead>\n",
       "  <tbody>\n",
       "  </tbody>\n",
       "</table>\n",
       "</div>"
      ],
      "text/plain": [
       "Empty DataFrame\n",
       "Columns: [House Number, Street, First Name, Surname, Age, Relationship to Head of House, Marital Status, Gender, Occupation, Infirmity, Religion, Age Group]\n",
       "Index: []"
      ]
     },
     "execution_count": 38,
     "metadata": {},
     "output_type": "execute_result"
    }
   ],
   "source": [
    "census_data[census_data['Relationship to Head of House'].isna()] "
   ]
  },
  {
   "cell_type": "markdown",
   "id": "dcb57930",
   "metadata": {},
   "source": [
    "## 4.  Standardize Religion entries"
   ]
  },
  {
   "cell_type": "code",
   "execution_count": 39,
   "id": "bb345222",
   "metadata": {},
   "outputs": [
    {
     "data": {
      "text/plain": [
       "array(['No Religion', 'Christian', 'Oasis', 'Sikh', nan,\n",
       "       'Church of England', 'Muslim', 'Bahai', 'Hindu', 'Asia',\n",
       "       'Catholic', 'Greek', 'The Chantry', 'Agnostic'], dtype=object)"
      ]
     },
     "execution_count": 39,
     "metadata": {},
     "output_type": "execute_result"
    }
   ],
   "source": [
    "census_data['Religion'].unique()"
   ]
  },
  {
   "cell_type": "markdown",
   "id": "46a1659f",
   "metadata": {},
   "source": [
    "We can see from the outcome above, some people religion data in the column is inaccurate which need to be fixed"
   ]
  },
  {
   "cell_type": "markdown",
   "id": "9f880c8b",
   "metadata": {},
   "source": [
    "### Cleaning the 'Religion' column"
   ]
  },
  {
   "cell_type": "code",
   "execution_count": null,
   "id": "51489613",
   "metadata": {},
   "outputs": [
    {
     "name": "stdout",
     "output_type": "stream",
     "text": [
      "Unique values in the 'Religion' column after standardization: ['No Religion' 'Christian' 'Sikh' nan 'Muslim' 'Bahai' 'Hindu'\n",
      " 'The Chantry']\n"
     ]
    }
   ],
   "source": [
    "# Standardize and recode religious affiliations in the 'Religion' column\n",
    "\n",
    "# Replace fictional or non-standard entries with 'No Religion'\n",
    "non_standard_religions = ['Oasis', 'Oasis', 'Asia', 'Greek', 'Agnostic']\n",
    "census_data['Religion'].replace(non_standard_religions, 'No Religion', inplace=True)\n",
    "\n",
    "# Correct 'Church of England' to 'Christian' for broader categorization\n",
    "christian_religion = ['Church of England','Catholic']\n",
    "census_data['Religion'].replace(christian_religion, 'Christian', inplace=True)\n",
    "\n",
    "# Display the unique religious affiliations after standardization\n",
    "print(\"Unique values in the 'Religion' column after standardization:\", census_data['Religion'].unique())"
   ]
  },
  {
   "cell_type": "markdown",
   "id": "86f17354",
   "metadata": {},
   "source": [
    "Now we check for the number NaN values that needs to be fixed"
   ]
  },
  {
   "cell_type": "code",
   "execution_count": 43,
   "id": "01dd8cbc",
   "metadata": {},
   "outputs": [
    {
     "name": "stdout",
     "output_type": "stream",
     "text": [
      "Number of missing Religion values: 1271\n"
     ]
    }
   ],
   "source": [
    "missing_values = census_data[\"Religion\"].isna().sum()\n",
    "print(f\"Number of missing Religion values: {missing_values}\")"
   ]
  },
  {
   "cell_type": "code",
   "execution_count": null,
   "id": "f5d92749",
   "metadata": {},
   "outputs": [
    {
     "name": "stdout",
     "output_type": "stream",
     "text": [
      "Number of missing Religion values after imputation: 0\n"
     ]
    },
    {
     "name": "stderr",
     "output_type": "stream",
     "text": [
      "C:\\Users\\WINDOW 10\\AppData\\Local\\Temp\\ipykernel_14792\\1872839568.py:32: DeprecationWarning: DataFrameGroupBy.apply operated on the grouping columns. This behavior is deprecated, and in a future version of pandas the grouping columns will be excluded from the operation. Either pass `include_groups=False` to exclude the groupings or explicitly select the grouping columns after groupby to silence this warning.\n",
      "  census_data = census_data.groupby(['House Number', 'Street'], group_keys=False).apply(\n"
     ]
    }
   ],
   "source": [
    "# Fixing Nan Religion\n",
    "\n",
    "def impute_religion_within_household(household, fallback_religion):\n",
    "    \"\"\"\n",
    "    Imputes missing 'Religion' values within a household group\n",
    "    using the observed distribution of religions in that household.\n",
    "    If no religion is recorded in the household, the overall\n",
    "    most frequent religion in the dataset is used as a fallback.\n",
    "    \"\"\"\n",
    "    household_religions = household['Religion'].dropna()\n",
    "\n",
    "    if household_religions.empty:\n",
    "        # If no religion is present in the household, fill with the overall mode\n",
    "        household['Religion'] = household['Religion'].fillna(fallback_religion)\n",
    "    else:\n",
    "        # Calculate the probability of each religion within the household\n",
    "        religion_probabilities = household_religions.value_counts(normalize=True)\n",
    "        \n",
    "        # Impute missing values by randomly selecting from the household's\n",
    "        # religion distribution\n",
    "        missing_mask = household['Religion'].isna()\n",
    "        household.loc[missing_mask, 'Religion'] = np.random.choice(\n",
    "            religion_probabilities.index,\n",
    "            size=missing_mask.sum(),\n",
    "            p=religion_probabilities.values\n",
    "        )\n",
    "    return household\n",
    "\n",
    "# 1. Determine the most frequent religion across the entire dataset\n",
    "overall_most_common_religion = census_data['Religion'].mode()[0]\n",
    "\n",
    "# 2. Group the census data by household (defined by 'House Number' and 'Street')\n",
    "#    and apply the imputation function to each household group.\n",
    "census_data = census_data.groupby(['House Number', 'Street'], group_keys=False).apply(\n",
    "    impute_religion_within_household, fallback_religion=overall_most_common_religion\n",
    ")\n",
    "\n",
    "# 3. Ensure a clean DataFrame by resetting the index\n",
    "census_data.reset_index(drop=True, inplace=True)\n",
    "\n",
    "# 4. Verify the imputation by counting any remaining missing 'Religion' values\n",
    "remaining_missing_religion = census_data['Religion'].isna().sum()\n",
    "print(f\"Number of missing Religion values after imputation: {remaining_missing_religion}\")"
   ]
  },
  {
   "cell_type": "code",
   "execution_count": null,
   "id": "e39f765f",
   "metadata": {},
   "outputs": [
    {
     "name": "stderr",
     "output_type": "stream",
     "text": [
      "C:\\Users\\WINDOW 10\\AppData\\Local\\Temp\\ipykernel_14792\\1348274090.py:5: FutureWarning: \n",
      "\n",
      "Passing `palette` without assigning `hue` is deprecated and will be removed in v0.14.0. Assign the `x` variable to `hue` and set `legend=False` for the same effect.\n",
      "\n",
      "  ax = sns.countplot(x='Religion', data=census_data, palette='viridis') # Use a more accessible palette\n"
     ]
    },
    {
     "data": {
      "image/png": "[encoded data removed]",
      "text/plain": [
       "<Figure size 1000x600 with 1 Axes>"
      ]
     },
     "metadata": {},
     "output_type": "display_data"
    }
   ],
   "source": [
    "# Visualize the distribution of religious affiliations\n",
    "plt.figure(figsize=(10, 6))  # Adjust figure size for better readability\n",
    "\n",
    "# Generate a count plot of the 'Religion' column\n",
    "ax = sns.countplot(x='Religion', data=census_data, palette='viridis') # Use a more accessible palette\n",
    "\n",
    "# Set the title of the plot\n",
    "plt.title('Distribution of Religious Affiliations', fontsize=16)\n",
    "\n",
    "# Calculate and display percentages on top of each bar\n",
    "total_count = len(census_data)\n",
    "for patch in ax.patches:\n",
    "    percentage = f'{100 * patch.get_height() / total_count:.1f}%'\n",
    "    x = patch.get_x() + patch.get_width() / 2\n",
    "    y = patch.get_height() + 5  \n",
    "    ax.annotate(percentage, (x, y), ha='center', fontsize=9, color='black')\n",
    "\n",
    "# Rotate x-axis labels for better readability if there are many categories\n",
    "plt.xticks(rotation=45, ha='right', fontsize=10)\n",
    "plt.xlabel('Religion', fontsize=12)\n",
    "plt.ylabel('Number of Respondents', fontsize=12)\n",
    "plt.tight_layout() # Adjust layout to prevent labels from being cut off\n",
    "\n",
    "# Save the visualization\n",
    "plt.savefig('religion_distribution.png')\n",
    "\n",
    "# Display the plot\n",
    "plt.show()"
   ]
  },
  {
   "cell_type": "markdown",
   "id": "44fff6de",
   "metadata": {},
   "source": [
    "## Key Observations from the Religion Distribution Plot\n",
    "- **Christian Majority**: The plot clearly shows that Christianity is the most common religion, with just over half the population (51.5%) identifying with it.\n",
    "- **Substantial Non-Religious Group**: A large segment of the population, nearly half (45.4%), reports having no religious affiliation. This is the second largest group.\n",
    "- **Small Representation of Other Religions**: Religions such as Hinduism, Islam, and Sikhism are present but represent much smaller portions of the population, each making up less than 1%.\n",
    "- **Clearer Population Numbers**: Unlike the gender breakdown in the previous plot, this image directly shows the actual numbers for each religious group in the community.\n",
    "- **Community Context**: This information about religious groups helps us understand the community's cultural and social makeup. It can also be useful for local planning and how resources are distributed."
   ]
  },
  {
   "cell_type": "markdown",
   "id": "a9440d68",
   "metadata": {},
   "source": [
    " ##  5 Standardize Marital Status\n"
   ]
  },
  {
   "cell_type": "code",
   "execution_count": 49,
   "id": "b6113047",
   "metadata": {},
   "outputs": [
    {
     "data": {
      "text/plain": [
       "array(['Widowed', 'Single', 'Married', 'Divorced', nan], dtype=object)"
      ]
     },
     "execution_count": 49,
     "metadata": {},
     "output_type": "execute_result"
    }
   ],
   "source": [
    "census_data['Marital Status'].unique()"
   ]
  },
  {
   "cell_type": "code",
   "execution_count": 51,
   "id": "97a70755",
   "metadata": {},
   "outputs": [
    {
     "data": {
      "text/html": [
       "<div>\n",
       "<style scoped>\n",
       "    .dataframe tbody tr th:only-of-type {\n",
       "        vertical-align: middle;\n",
       "    }\n",
       "\n",
       "    .dataframe tbody tr th {\n",
       "        vertical-align: top;\n",
       "    }\n",
       "\n",
       "    .dataframe thead th {\n",
       "        text-align: right;\n",
       "    }\n",
       "</style>\n",
       "<table border=\"1\" class=\"dataframe\">\n",
       "  <thead>\n",
       "    <tr style=\"text-align: right;\">\n",
       "      <th></th>\n",
       "      <th>House Number</th>\n",
       "      <th>Street</th>\n",
       "      <th>First Name</th>\n",
       "      <th>Surname</th>\n",
       "      <th>Age</th>\n",
       "      <th>Relationship to Head of House</th>\n",
       "      <th>Marital Status</th>\n",
       "      <th>Gender</th>\n",
       "      <th>Occupation</th>\n",
       "      <th>Infirmity</th>\n",
       "      <th>Religion</th>\n",
       "      <th>Age Group</th>\n",
       "    </tr>\n",
       "  </thead>\n",
       "  <tbody>\n",
       "    <tr>\n",
       "      <th>17</th>\n",
       "      <td>6</td>\n",
       "      <td>Jackson Close</td>\n",
       "      <td>Linda</td>\n",
       "      <td>Watson</td>\n",
       "      <td>16</td>\n",
       "      <td>Daughter</td>\n",
       "      <td>NaN</td>\n",
       "      <td>Female</td>\n",
       "      <td>Student</td>\n",
       "      <td>No Infirmity</td>\n",
       "      <td>No Religion</td>\n",
       "      <td>15-19</td>\n",
       "    </tr>\n",
       "    <tr>\n",
       "      <th>37</th>\n",
       "      <td>14</td>\n",
       "      <td>Jackson Close</td>\n",
       "      <td>Gavin</td>\n",
       "      <td>Barlow</td>\n",
       "      <td>8</td>\n",
       "      <td>Son</td>\n",
       "      <td>NaN</td>\n",
       "      <td>Male</td>\n",
       "      <td>Student</td>\n",
       "      <td>No Infirmity</td>\n",
       "      <td>No Religion</td>\n",
       "      <td>5-9</td>\n",
       "    </tr>\n",
       "    <tr>\n",
       "      <th>38</th>\n",
       "      <td>14</td>\n",
       "      <td>Jackson Close</td>\n",
       "      <td>Dylan</td>\n",
       "      <td>Barlow</td>\n",
       "      <td>5</td>\n",
       "      <td>Son</td>\n",
       "      <td>NaN</td>\n",
       "      <td>Male</td>\n",
       "      <td>Student</td>\n",
       "      <td>No Infirmity</td>\n",
       "      <td>No Religion</td>\n",
       "      <td>5-9</td>\n",
       "    </tr>\n",
       "    <tr>\n",
       "      <th>41</th>\n",
       "      <td>15</td>\n",
       "      <td>Jackson Close</td>\n",
       "      <td>Duncan</td>\n",
       "      <td>Carter</td>\n",
       "      <td>7</td>\n",
       "      <td>Son</td>\n",
       "      <td>NaN</td>\n",
       "      <td>Male</td>\n",
       "      <td>Student</td>\n",
       "      <td>No Infirmity</td>\n",
       "      <td>No Religion</td>\n",
       "      <td>5-9</td>\n",
       "    </tr>\n",
       "    <tr>\n",
       "      <th>44</th>\n",
       "      <td>16</td>\n",
       "      <td>Jackson Close</td>\n",
       "      <td>Jack</td>\n",
       "      <td>Stanley-Price</td>\n",
       "      <td>14</td>\n",
       "      <td>Son</td>\n",
       "      <td>NaN</td>\n",
       "      <td>Male</td>\n",
       "      <td>Student</td>\n",
       "      <td>No Infirmity</td>\n",
       "      <td>Christian</td>\n",
       "      <td>10-14</td>\n",
       "    </tr>\n",
       "    <tr>\n",
       "      <th>...</th>\n",
       "      <td>...</td>\n",
       "      <td>...</td>\n",
       "      <td>...</td>\n",
       "      <td>...</td>\n",
       "      <td>...</td>\n",
       "      <td>...</td>\n",
       "      <td>...</td>\n",
       "      <td>...</td>\n",
       "      <td>...</td>\n",
       "      <td>...</td>\n",
       "      <td>...</td>\n",
       "      <td>...</td>\n",
       "    </tr>\n",
       "    <tr>\n",
       "      <th>10018</th>\n",
       "      <td>1</td>\n",
       "      <td>Church Factory</td>\n",
       "      <td>Mark</td>\n",
       "      <td>Ashton</td>\n",
       "      <td>10</td>\n",
       "      <td>Son</td>\n",
       "      <td>NaN</td>\n",
       "      <td>Male</td>\n",
       "      <td>Student</td>\n",
       "      <td>No Infirmity</td>\n",
       "      <td>No Religion</td>\n",
       "      <td>10-14</td>\n",
       "    </tr>\n",
       "    <tr>\n",
       "      <th>10019</th>\n",
       "      <td>1</td>\n",
       "      <td>Church Factory</td>\n",
       "      <td>Jodie</td>\n",
       "      <td>Ashton</td>\n",
       "      <td>7</td>\n",
       "      <td>Daughter</td>\n",
       "      <td>NaN</td>\n",
       "      <td>Female</td>\n",
       "      <td>Student</td>\n",
       "      <td>No Infirmity</td>\n",
       "      <td>Christian</td>\n",
       "      <td>5-9</td>\n",
       "    </tr>\n",
       "    <tr>\n",
       "      <th>10020</th>\n",
       "      <td>1</td>\n",
       "      <td>Church Factory</td>\n",
       "      <td>Jason</td>\n",
       "      <td>Ashton</td>\n",
       "      <td>2</td>\n",
       "      <td>Son</td>\n",
       "      <td>NaN</td>\n",
       "      <td>Male</td>\n",
       "      <td>Child</td>\n",
       "      <td>No Infirmity</td>\n",
       "      <td>Christian</td>\n",
       "      <td>0-4</td>\n",
       "    </tr>\n",
       "    <tr>\n",
       "      <th>10021</th>\n",
       "      <td>1</td>\n",
       "      <td>Church Factory</td>\n",
       "      <td>Malcolm</td>\n",
       "      <td>Ashton</td>\n",
       "      <td>1</td>\n",
       "      <td>Son</td>\n",
       "      <td>NaN</td>\n",
       "      <td>Male</td>\n",
       "      <td>Child</td>\n",
       "      <td>No Infirmity</td>\n",
       "      <td>Christian</td>\n",
       "      <td>0-4</td>\n",
       "    </tr>\n",
       "    <tr>\n",
       "      <th>10022</th>\n",
       "      <td>1</td>\n",
       "      <td>Church Factory</td>\n",
       "      <td>Adam</td>\n",
       "      <td>Ashton</td>\n",
       "      <td>1</td>\n",
       "      <td>Son</td>\n",
       "      <td>NaN</td>\n",
       "      <td>Male</td>\n",
       "      <td>Child</td>\n",
       "      <td>No Infirmity</td>\n",
       "      <td>No Religion</td>\n",
       "      <td>0-4</td>\n",
       "    </tr>\n",
       "  </tbody>\n",
       "</table>\n",
       "<p>2175 rows × 12 columns</p>\n",
       "</div>"
      ],
      "text/plain": [
       "       House Number          Street First Name        Surname  Age  \\\n",
       "17                6   Jackson Close      Linda         Watson   16   \n",
       "37               14   Jackson Close      Gavin         Barlow    8   \n",
       "38               14   Jackson Close      Dylan         Barlow    5   \n",
       "41               15   Jackson Close     Duncan         Carter    7   \n",
       "44               16   Jackson Close       Jack  Stanley-Price   14   \n",
       "...             ...             ...        ...            ...  ...   \n",
       "10018             1  Church Factory       Mark         Ashton   10   \n",
       "10019             1  Church Factory      Jodie         Ashton    7   \n",
       "10020             1  Church Factory      Jason         Ashton    2   \n",
       "10021             1  Church Factory    Malcolm         Ashton    1   \n",
       "10022             1  Church Factory       Adam         Ashton    1   \n",
       "\n",
       "      Relationship to Head of House Marital Status  Gender Occupation  \\\n",
       "17                         Daughter            NaN  Female    Student   \n",
       "37                              Son            NaN    Male    Student   \n",
       "38                              Son            NaN    Male    Student   \n",
       "41                              Son            NaN    Male    Student   \n",
       "44                              Son            NaN    Male    Student   \n",
       "...                             ...            ...     ...        ...   \n",
       "10018                           Son            NaN    Male    Student   \n",
       "10019                      Daughter            NaN  Female    Student   \n",
       "10020                           Son            NaN    Male      Child   \n",
       "10021                           Son            NaN    Male      Child   \n",
       "10022                           Son            NaN    Male      Child   \n",
       "\n",
       "          Infirmity     Religion Age Group  \n",
       "17     No Infirmity  No Religion     15-19  \n",
       "37     No Infirmity  No Religion       5-9  \n",
       "38     No Infirmity  No Religion       5-9  \n",
       "41     No Infirmity  No Religion       5-9  \n",
       "44     No Infirmity    Christian     10-14  \n",
       "...             ...          ...       ...  \n",
       "10018  No Infirmity  No Religion     10-14  \n",
       "10019  No Infirmity    Christian       5-9  \n",
       "10020  No Infirmity    Christian       0-4  \n",
       "10021  No Infirmity    Christian       0-4  \n",
       "10022  No Infirmity  No Religion       0-4  \n",
       "\n",
       "[2175 rows x 12 columns]"
      ]
     },
     "execution_count": 51,
     "metadata": {},
     "output_type": "execute_result"
    }
   ],
   "source": [
    "### Checking for null values in the 'Marital Status' column\n",
    "census_data[census_data['Marital Status'].isna()] "
   ]
  },
  {
   "cell_type": "markdown",
   "id": "992bc671",
   "metadata": {},
   "source": [
    "From the 2175 data rows of nan Marital Status, let's check if all nan are less than 18 Years"
   ]
  },
  {
   "cell_type": "code",
   "execution_count": 53,
   "id": "2b0e9038",
   "metadata": {},
   "outputs": [
    {
     "name": "stdout",
     "output_type": "stream",
     "text": [
      "All ages in the Marital Status rows showing NaN are less than 18.\n"
     ]
    }
   ],
   "source": [
    "nan_marital_status = census_data[census_data['Marital Status'].isna()]\n",
    "if all(nan_marital_status['Age'] < 18):\n",
    "    print(\"All ages in the Marital Status rows showing NaN are less than 18.\")\n",
    "else:\n",
    "    print(\"Not all ages in the Marital Status rows are less than 18.\")"
   ]
  },
  {
   "cell_type": "markdown",
   "id": "23d3bd90",
   "metadata": {},
   "source": [
    "### Since all Marital Status rows showing NaN are less than 18, Let's fix that by making them single\n",
    "\n",
    "https://www.gov.uk/government/news/legal-age-of-marriage-in-england-and-wales-rises-to-18#:~:text=Press%20release-,Legal%20age%20of%20marriage%20in%20England%20and%20Wales%20rises%20to,18%20in%20England%20and%20Wales."
   ]
  },
  {
   "cell_type": "code",
   "execution_count": 54,
   "id": "7a08df3d",
   "metadata": {},
   "outputs": [],
   "source": [
    "\n",
    "census_data.loc[census_data['Marital Status'].isnull() & (census_data['Age'] < 18), 'Marital Status'] = 'Single'\n"
   ]
  },
  {
   "cell_type": "code",
   "execution_count": null,
   "id": "5b28b4af",
   "metadata": {},
   "outputs": [
    {
     "name": "stderr",
     "output_type": "stream",
     "text": [
      "C:\\Users\\WINDOW 10\\AppData\\Local\\Temp\\ipykernel_14792\\223842466.py:5: FutureWarning: \n",
      "\n",
      "Passing `palette` without assigning `hue` is deprecated and will be removed in v0.14.0. Assign the `x` variable to `hue` and set `legend=False` for the same effect.\n",
      "\n",
      "  ax = sns.countplot(x='Marital Status', data=census_data, palette='Set2') # Use a visually distinct palette\n"
     ]
    },
    {
     "data": {
      "image/png": "[encoded data removed]",
      "text/plain": [
       "<Figure size 1000x600 with 1 Axes>"
      ]
     },
     "metadata": {},
     "output_type": "display_data"
    }
   ],
   "source": [
    "# Visualize the distribution of marital status\n",
    "plt.figure(figsize=(10, 6))  # Adjust figure size for better readability\n",
    "\n",
    "# Generate a count plot for the 'Marital Status' column\n",
    "ax = sns.countplot(x='Marital Status', data=census_data, palette='Set2') \n",
    "\n",
    "# Set a more descriptive title for the plot\n",
    "plt.title('Distribution of Marital Status Among Respondents', fontsize=16)\n",
    "plt.xlabel('Marital Status', fontsize=12)\n",
    "plt.ylabel('Number of Respondents', fontsize=12)\n",
    "\n",
    "# Calculate and display the percentage on top of each bar\n",
    "total_respondents = len(census_data)\n",
    "for patch in ax.patches:\n",
    "    percentage = f'{100 * patch.get_height() / total_respondents:.1f}%'\n",
    "    x = patch.get_x() + patch.get_width() / 2\n",
    "    y = patch.get_height() + 5  \n",
    "    ax.annotate(percentage, (x, y), ha='center', va='bottom', fontsize=9, color='black')\n",
    "\n",
    "plt.xticks(rotation=0, ha='center', fontsize=10) # Ensure x-axis labels are horizontal\n",
    "plt.tight_layout() # Adjust layout to prevent labels from being cut off\n",
    "\n",
    "# Save the plot as a PNG file with a more descriptive name\n",
    "plt.savefig('marital_status_distribution.png')\n",
    "\n",
    "# Display the generated plot\n",
    "plt.show()"
   ]
  },
  {
   "cell_type": "markdown",
   "id": "d56d983e",
   "metadata": {},
   "source": [
    "Now let's see what is left to clean"
   ]
  },
  {
   "cell_type": "code",
   "execution_count": 76,
   "id": "2510c6aa",
   "metadata": {},
   "outputs": [
    {
     "data": {
      "text/plain": [
       "House Number                     0\n",
       "Street                           0\n",
       "First Name                       0\n",
       "Surname                          0\n",
       "Age                              0\n",
       "Relationship to Head of House    0\n",
       "Marital Status                   0\n",
       "Gender                           0\n",
       "Occupation                       0\n",
       "Infirmity                        0\n",
       "Religion                         0\n",
       "Age Group                        1\n",
       "dtype: int64"
      ]
     },
     "execution_count": 76,
     "metadata": {},
     "output_type": "execute_result"
    }
   ],
   "source": [
    "census_data.isnull().sum()"
   ]
  },
  {
   "cell_type": "markdown",
   "id": "b9664b89",
   "metadata": {},
   "source": [
    "## 6. Checking for null values in the 'Age Group' column"
   ]
  },
  {
   "cell_type": "code",
   "execution_count": 79,
   "id": "aff00c30",
   "metadata": {},
   "outputs": [
    {
     "data": {
      "text/plain": [
       "['45-49', '25-29', '40-44', '55-59', '50-54', ..., '90-94', '100-104', '105+', NaN, '95-99']\n",
       "Length: 23\n",
       "Categories (22, object): ['0-4' < '5-9' < '10-14' < '15-19' ... '90-94' < '95-99' < '100-104' < '105+']"
      ]
     },
     "execution_count": 79,
     "metadata": {},
     "output_type": "execute_result"
    }
   ],
   "source": [
    "census_data['Age Group'].unique()"
   ]
  },
  {
   "cell_type": "code",
   "execution_count": 78,
   "id": "cddfb8e0",
   "metadata": {},
   "outputs": [
    {
     "data": {
      "text/html": [
       "<div>\n",
       "<style scoped>\n",
       "    .dataframe tbody tr th:only-of-type {\n",
       "        vertical-align: middle;\n",
       "    }\n",
       "\n",
       "    .dataframe tbody tr th {\n",
       "        vertical-align: top;\n",
       "    }\n",
       "\n",
       "    .dataframe thead th {\n",
       "        text-align: right;\n",
       "    }\n",
       "</style>\n",
       "<table border=\"1\" class=\"dataframe\">\n",
       "  <thead>\n",
       "    <tr style=\"text-align: right;\">\n",
       "      <th></th>\n",
       "      <th>House Number</th>\n",
       "      <th>Street</th>\n",
       "      <th>First Name</th>\n",
       "      <th>Surname</th>\n",
       "      <th>Age</th>\n",
       "      <th>Relationship to Head of House</th>\n",
       "      <th>Marital Status</th>\n",
       "      <th>Gender</th>\n",
       "      <th>Occupation</th>\n",
       "      <th>Infirmity</th>\n",
       "      <th>Religion</th>\n",
       "      <th>Age Group</th>\n",
       "    </tr>\n",
       "  </thead>\n",
       "  <tbody>\n",
       "    <tr>\n",
       "      <th>1908</th>\n",
       "      <td>3</td>\n",
       "      <td>Turner Crescent</td>\n",
       "      <td>Katy</td>\n",
       "      <td>Doyle</td>\n",
       "      <td>110</td>\n",
       "      <td>Head</td>\n",
       "      <td>Single</td>\n",
       "      <td>Female</td>\n",
       "      <td>Retired Production engineer</td>\n",
       "      <td>No Infirmity</td>\n",
       "      <td>Christian</td>\n",
       "      <td>NaN</td>\n",
       "    </tr>\n",
       "  </tbody>\n",
       "</table>\n",
       "</div>"
      ],
      "text/plain": [
       "      House Number           Street First Name Surname  Age  \\\n",
       "1908             3  Turner Crescent       Katy   Doyle  110   \n",
       "\n",
       "     Relationship to Head of House Marital Status  Gender  \\\n",
       "1908                          Head         Single  Female   \n",
       "\n",
       "                       Occupation     Infirmity   Religion Age Group  \n",
       "1908  Retired Production engineer  No Infirmity  Christian       NaN  "
      ]
     },
     "execution_count": 78,
     "metadata": {},
     "output_type": "execute_result"
    }
   ],
   "source": [
    "census_data[census_data['Age Group'].isna()] "
   ]
  },
  {
   "cell_type": "markdown",
   "id": "41c64f4d",
   "metadata": {},
   "source": [
    "### Katy Doyle is the only person not in an Age Group"
   ]
  },
  {
   "cell_type": "code",
   "execution_count": 80,
   "id": "680695f4",
   "metadata": {},
   "outputs": [
    {
     "name": "stdout",
     "output_type": "stream",
     "text": [
      "The Age Group for these records has been updated to '105+'.\n"
     ]
    }
   ],
   "source": [
    "\n",
    "# Now let's fix that by updating the NaN for Age Group 110  to \"105+\"\n",
    "census_data.loc[(census_data[\"Age\"] > 105), \"Age Group\"] = \"105+\"\n",
    "print(\"The Age Group for these records has been updated to '105+'.\")"
   ]
  },
  {
   "cell_type": "code",
   "execution_count": 81,
   "id": "cf61fa29",
   "metadata": {},
   "outputs": [
    {
     "data": {
      "text/plain": [
       "House Number                     0\n",
       "Street                           0\n",
       "First Name                       0\n",
       "Surname                          0\n",
       "Age                              0\n",
       "Relationship to Head of House    0\n",
       "Marital Status                   0\n",
       "Gender                           0\n",
       "Occupation                       0\n",
       "Infirmity                        0\n",
       "Religion                         0\n",
       "Age Group                        0\n",
       "dtype: int64"
      ]
     },
     "execution_count": 81,
     "metadata": {},
     "output_type": "execute_result"
    }
   ],
   "source": [
    "census_data.isnull().sum()"
   ]
  },
  {
   "cell_type": "markdown",
   "id": "b1d9c283",
   "metadata": {},
   "source": [
    "##  All Data has been Cleaned\n"
   ]
  },
  {
   "cell_type": "markdown",
   "id": "a70187ad",
   "metadata": {},
   "source": [
    "# Exploratory Analysis & Visualisations"
   ]
  },
  {
   "cell_type": "markdown",
   "id": "c197c04b",
   "metadata": {},
   "source": [
    "## (a) Examinig The Population"
   ]
  },
  {
   "cell_type": "code",
   "execution_count": null,
   "id": "185fd757",
   "metadata": {},
   "outputs": [
    {
     "name": "stderr",
     "output_type": "stream",
     "text": [
      "C:\\Users\\WINDOW 10\\AppData\\Local\\Temp\\ipykernel_14792\\1123965097.py:3: FutureWarning: The default of observed=False is deprecated and will be changed to True in a future version of pandas. Pass observed=False to retain current behavior or observed=True to adopt the future default and silence this warning.\n",
      "  pop_pyramid = census_data.groupby(['Gender', age_bins]).size().unstack().fillna(0)\n"
     ]
    },
    {
     "data": {
      "text/plain": [
       "<Figure size 1000x600 with 0 Axes>"
      ]
     },
     "metadata": {},
     "output_type": "display_data"
    },
    {
     "data": {
      "image/png": "[encoded data removed]",
      "text/plain": [
       "<Figure size 640x480 with 1 Axes>"
      ]
     },
     "metadata": {},
     "output_type": "display_data"
    }
   ],
   "source": [
    "# Population Pyramid\n",
    "age_bins = pd.cut(census_data['Age'], bins=[0, 4, 17, 64, 110], labels=['Infant', 'Child', 'Adult', 'Senior'])\n",
    "pop_pyramid = census_data.groupby(['Gender', age_bins]).size().unstack().fillna(0)\n",
    "# Make male counts negative for left side of pyramid\n",
    "pop_pyramid.loc['Male'] *= -1\n",
    "\n",
    "plt.figure(figsize=(10, 6))\n",
    "pop_pyramid.T.plot(kind='barh', stacked=True, color=[\"#007acc\", \"#ff99cc\"], width=0.9)\n",
    "plt.title(\"Population Pyramid by Gender and Age Group\")\n",
    "plt.xlabel(\"Population\")\n",
    "plt.tight_layout()\n",
    "plt.savefig('population_pyramid.png')\n",
    "\n",
    "# Display the generated plot\n",
    "plt.show()"
   ]
  },
  {
   "cell_type": "markdown",
   "id": "6b852387",
   "metadata": {},
   "source": [
    "### Unemployment Analysis by Age Band and Gender"
   ]
  },
  {
   "cell_type": "code",
   "execution_count": 90,
   "id": "f87cc772",
   "metadata": {},
   "outputs": [
    {
     "name": "stderr",
     "output_type": "stream",
     "text": [
      "C:\\Users\\WINDOW 10\\AppData\\Local\\Temp\\ipykernel_14792\\3488711533.py:3: FutureWarning: The default of observed=False is deprecated and will be changed to True in a future version of pandas. Pass observed=False to retain current behavior or observed=True to adopt the future default and silence this warning.\n",
      "  counts_by_age_band = unemployed_censure_data.groupby('Age Group').size()\n"
     ]
    },
    {
     "name": "stdout",
     "output_type": "stream",
     "text": [
      "The age band with the highest unemployment count is: 40-44\n"
     ]
    },
    {
     "data": {
      "image/png": "[encoded data removed]",
      "text/plain": [
       "<Figure size 1000x600 with 1 Axes>"
      ]
     },
     "metadata": {},
     "output_type": "display_data"
    }
   ],
   "source": [
    "# Group the unemployed dataframe by 'Age Group' and count the rows for each band\n",
    "unemployed_censure_data = census_data[census_data['Occupation'] == 'Unemployed']\n",
    "counts_by_age_band = unemployed_censure_data.groupby('Age Group').size()\n",
    "max_age_band = counts_by_age_band.idxmax()\n",
    "print(f\"The age band with the highest unemployment count is: {max_age_band}\")\n",
    "\n",
    "# Plot: Unemployment distribution by age and gender\n",
    "plt.figure(figsize=(10,6))\n",
    "sns.kdeplot(\n",
    "    data=unemployed_censure_data,\n",
    "    x='Age',\n",
    "    hue='Gender',\n",
    "    palette='terrain_r',\n",
    "    fill=True,\n",
    "    alpha=0.6\n",
    ")\n",
    "plt.title('Unemployment Distribution by Age and Gender')\n",
    "plt.xlabel('Age')\n",
    "plt.ylabel('Density')\n",
    "plt.tight_layout()\n",
    "plt.savefig( 'unemployed_distribution_by_age_gender.png')\n",
    "plt.show()"
   ]
  },
  {
   "cell_type": "markdown",
   "id": "118c8a7a",
   "metadata": {},
   "source": [
    "### Employment Status Categorization and Visualization"
   ]
  },
  {
   "cell_type": "code",
   "execution_count": null,
   "id": "580c5e9f",
   "metadata": {},
   "outputs": [
    {
     "name": "stderr",
     "output_type": "stream",
     "text": [
      "C:\\Users\\WINDOW 10\\AppData\\Local\\Temp\\ipykernel_14792\\3675973794.py:29: FutureWarning: \n",
      "\n",
      "Passing `palette` without assigning `hue` is deprecated and will be removed in v0.14.0. Assign the `x` variable to `hue` and set `legend=False` for the same effect.\n",
      "\n",
      "  sns.boxplot(x='Employment_Status', y='Age', data=census_data, palette='Paired_r')\n"
     ]
    },
    {
     "data": {
      "image/png": "[encoded data removed]",
      "text/plain": [
       "<Figure size 1000x600 with 1 Axes>"
      ]
     },
     "metadata": {},
     "output_type": "display_data"
    },
    {
     "name": "stderr",
     "output_type": "stream",
     "text": [
      "C:\\Users\\WINDOW 10\\AppData\\Local\\Temp\\ipykernel_14792\\3675973794.py:41: FutureWarning: \n",
      "\n",
      "Passing `palette` without assigning `hue` is deprecated and will be removed in v0.14.0. Assign the `x` variable to `hue` and set `legend=False` for the same effect.\n",
      "\n",
      "  employment_count_plot = sns.countplot(x='Employment_Status', data=census_data, palette=palette_employment)\n"
     ]
    },
    {
     "data": {
      "image/png": "[encoded data removed]",
      "text/plain": [
       "<Figure size 800x500 with 1 Axes>"
      ]
     },
     "metadata": {},
     "output_type": "display_data"
    }
   ],
   "source": [
    "# Define conditions and corresponding employment statuses\n",
    "conditions = [\n",
    "    (census_data['Occupation'] == 'Unemployed'),\n",
    "    (census_data['Age'] > 65),\n",
    "    (census_data['Occupation'].str.contains('University Student', na=False)),\n",
    "    (census_data['Occupation'].str.startswith('Student', na=False)),\n",
    "    (census_data['Occupation'] == 'Child')\n",
    "]\n",
    "choices = ['Unemployed', 'Retired', 'University Student', 'Student', 'Child']\n",
    "\n",
    "# Assign initial 'Employed' status\n",
    "census_data['Employment_Status'] = 'Employed'\n",
    "\n",
    "# Apply conditions to update 'Employment_Status'\n",
    "census_data['Employment_Status'] = pd.Series(['Employed'] * len(census_data)) # Initialize correctly for assignment\n",
    "census_data.loc[conditions[0], 'Employment_Status'] = choices[0]\n",
    "census_data.loc[conditions[1], 'Employment_Status'] = choices[1]\n",
    "census_data.loc[conditions[2], 'Employment_Status'] = choices[2]\n",
    "census_data.loc[conditions[3], 'Employment_Status'] = choices[3]\n",
    "census_data.loc[conditions[4], 'Employment_Status'] = choices[4]\n",
    "\n",
    "# Consolidate economically inactive groups\n",
    "inactive = ['Unemployed', 'Retired', 'University Student', 'Student', 'Child']\n",
    "census_data.loc[census_data['Employment_Status'].isin(inactive), 'Employment_Status'] = 'Economically Inactive'\n",
    "\n",
    "# Age vs Employment Status \n",
    "plt.figure(figsize=(10, 6))\n",
    "sns.boxplot(x='Employment_Status', y='Age', data=census_data, palette='Paired_r')\n",
    "plt.title('Employment Status by Age', fontsize=14)\n",
    "plt.xlabel('Employment Status', fontsize=12)\n",
    "plt.ylabel('Age', fontsize=12)\n",
    "plt.tight_layout()\n",
    "plt.savefig('employment_status_by_age_boxplot.png')\n",
    "plt.show()\n",
    "\n",
    "# Count plot with percentages: Employment Status \n",
    "plt.figure(figsize=(8, 5))\n",
    "total_employment = len(census_data)\n",
    "palette_employment = sns.color_palette('Set2', census_data['Employment_Status'].nunique())\n",
    "employment_count_plot = sns.countplot(x='Employment_Status', data=census_data, palette=palette_employment)\n",
    "for p in employment_count_plot.patches:\n",
    "    percentage = f\"{100 * p.get_height() / total_employment:.1f}%\"\n",
    "    x = p.get_x() + p.get_width() / 2\n",
    "    y = p.get_height()\n",
    "    employment_count_plot.annotate(percentage, (x, y), ha='center', va='bottom')\n",
    "\n",
    "plt.title('Employment Status Distribution', fontsize=14)\n",
    "plt.xlabel('Employment Status', fontsize=12)\n",
    "plt.ylabel('Count', fontsize=12)\n",
    "plt.tight_layout()\n",
    "plt.savefig('employment_status_distribution.png')\n"
   ]
  },
  {
   "cell_type": "code",
   "execution_count": 119,
   "id": "2ad43ac3",
   "metadata": {},
   "outputs": [
    {
     "name": "stdout",
     "output_type": "stream",
     "text": [
      "Unemployment Rate: 7.0%\n"
     ]
    }
   ],
   "source": [
    "unemployed_rate = (census_data['Occupation'] == 'Unemployed').mean() * 100\n",
    "\n",
    "print(f\"Unemployment Rate: {unemployed_rate:.1f}%\")"
   ]
  },
  {
   "cell_type": "code",
   "execution_count": 132,
   "id": "6307c75f",
   "metadata": {},
   "outputs": [
    {
     "name": "stdout",
     "output_type": "stream",
     "text": [
      "\n",
      "Commuter vs. Non-Commuter Counts:\n",
      "Is_Commuter\n",
      "0    9068\n",
      "1     956\n",
      "Name: count, dtype: int64\n",
      "\n",
      "Commuter vs. Non-Commuter Percentages:\n",
      "Is_Commuter\n",
      "0    90.462889\n",
      "1     9.537111\n",
      "Name: proportion, dtype: float64\n",
      "\n",
      "Sample of Likely Commuters:\n",
      "    House Number         Street First Name   Surname  Age  \\\n",
      "3              2  Jackson Close   Kayleigh     Evans   41   \n",
      "12             4  Jackson Close     Arthur     White   19   \n",
      "27            10  Jackson Close     Nathan  Williams   54   \n",
      "33            13  Jackson Close       Mary     Jones   57   \n",
      "58            20  Jackson Close    Vincent     Jones   21   \n",
      "\n",
      "   Relationship to Head of House Marital Status  Gender  \\\n",
      "3                           Head        Married  Female   \n",
      "12                          Head        Married    Male   \n",
      "27                       Husband        Married    Male   \n",
      "33                          Head         Single  Female   \n",
      "58                           Son       Divorced    Male   \n",
      "\n",
      "                   Occupation     Infirmity     Religion Age Group  \\\n",
      "3      Special effects artist  No Infirmity    Christian     40-44   \n",
      "12         University Student  No Infirmity    Christian     15-19   \n",
      "27   Environmental consultant  No Infirmity  No Religion     50-54   \n",
      "33  Consulting civil engineer  No Infirmity    Christian     55-59   \n",
      "58         University Student  No Infirmity    Christian     20-24   \n",
      "\n",
      "        Employment_Status  Is_Commuter           Occupation_clean  \\\n",
      "3                Employed            1     Special effects artist   \n",
      "12  Economically Inactive            1         University Student   \n",
      "27               Employed            1   Environmental consultant   \n",
      "33               Employed            1  Consulting civil engineer   \n",
      "58  Economically Inactive            1         University Student   \n",
      "\n",
      "   Commuter_Status  \n",
      "3         Commuter  \n",
      "12        Commuter  \n",
      "27        Commuter  \n",
      "33        Commuter  \n",
      "58        Commuter  \n",
      "\n",
      "Sample of Likely Non-Commuters:\n",
      "   House Number         Street First Name     Surname  Age  \\\n",
      "0             1  Jackson Close      Lynda        Nash   46   \n",
      "1             1  Jackson Close     Hayley  Singh-Nash   28   \n",
      "2             1  Jackson Close      Holly  Singh-Nash   26   \n",
      "4             2  Jackson Close      Frank       Evans   43   \n",
      "5             2  Jackson Close     Joshua       Evans   59   \n",
      "\n",
      "  Relationship to Head of House Marital Status  Gender  \\\n",
      "0                          Head        Widowed  Female   \n",
      "1                      Daughter         Single  Female   \n",
      "2                      Daughter         Single  Female   \n",
      "4                       Husband        Married    Male   \n",
      "5                        Cousin       Divorced    Male   \n",
      "\n",
      "                      Occupation     Infirmity     Religion Age Group  \\\n",
      "0                     Unemployed  No Infirmity  No Religion     45-49   \n",
      "1  Clothing/textile technologist  No Infirmity  No Religion     25-29   \n",
      "2                Energy engineer  No Infirmity  No Religion     25-29   \n",
      "4                Camera operator  No Infirmity  No Religion     40-44   \n",
      "5  Clinical molecular geneticist  No Infirmity    Christian     55-59   \n",
      "\n",
      "       Employment_Status  Is_Commuter               Occupation_clean  \\\n",
      "0  Economically Inactive            0                     Unemployed   \n",
      "1               Employed            0  Clothing/textile technologist   \n",
      "2               Employed            0                Energy engineer   \n",
      "4               Employed            0                Camera operator   \n",
      "5               Employed            0  Clinical molecular geneticist   \n",
      "\n",
      "  Commuter_Status  \n",
      "0    Non-Commuter  \n",
      "1    Non-Commuter  \n",
      "2    Non-Commuter  \n",
      "4    Non-Commuter  \n",
      "5    Non-Commuter  \n"
     ]
    }
   ],
   "source": [
    "# Provided list of occupations likely to commute\n",
    "commuter_occupations = [\n",
    "    \"University Student\", \"Pilot, airline\", \"Television camera operator\", \"Press photographer\",\n",
    "    \"Ambulance person\", \"Teacher, adult education\", \"Teacher, secondary school\", \"Surveyor, minerals\",\n",
    "    \"Surveyor, quantity\", \"Surveyor, planning and development\", \"Surveyor, hydrographic\",\n",
    "    \"Surveyor, commercial/residential\", \"Chartered accountant\", \"Engineer, materials\", \"Engineer, automotive\",\n",
    "    \"Software engineer\", \"PhD Student\", \"Legal executive\", \"Doctor, general practice\", \"Psychologist, clinical\",\n",
    "    \"Health and safety inspector\", \"Insurance risk surveyor\", \"Financial trader\", \"Banker\", \"Civil engineer, contracting\",\n",
    "    \"Physician\", \"Financial adviser\", \"Commercial art gallery manager\", \"Architect\", \"Journalist, broadcasting\",\n",
    "    \"Consulting civil engineer\", \"Research scientist (medical)\", \"Geologist, engineering\", \"Marine scientist\", \"Astronomer\",\n",
    "    \"Surveyor, rural practice\", \"Surveyor, mining\", \"Surveyor, quantity\", \"Surveyor, commercial\", \"Software engineer\",\n",
    "    \"Special effects artist\", \"Public health consultant\", \"Financial analyst\", \"Corporate treasurer\",\n",
    "    \"Environmental consultant\", \"Project manager\", \"Media producer\", \"Transportation planner\", \"Event planner\",\n",
    "    \"Engineer, technical sales\", \"Meteorologist\", \"Data scientist\", \"Logistics manager\", \"Project manager\"\n",
    "]\n",
    "\n",
    "# Assuming your census data is in a pandas DataFrame called 'census_data'\n",
    "# and the occupation information is in a column named 'Occupation'\n",
    "\n",
    "# Create a new column 'Is_Commuter' to indicate commuter status\n",
    "census_data['Is_Commuter'] = 0  # Initialize everyone as non-commuters\n",
    "\n",
    "# Identify University Students (always commuters in this context)\n",
    "census_data.loc[census_data['Occupation'] == 'University Student', 'Is_Commuter'] = 1\n",
    "\n",
    "# Identify other commuters based on the provided list\n",
    "census_data.loc[census_data['Occupation'].isin(commuter_occupations), 'Is_Commuter'] = 1\n",
    "\n",
    "# Now you have a new column 'Is_Commuter' where:\n",
    "# 1 represents individuals likely to be commuters\n",
    "# 0 represents individuals likely to be non-commuters\n",
    "\n",
    "# You can now analyze this new column:\n",
    "\n",
    "# Get counts of commuters and non-commuters\n",
    "commuter_counts = census_data['Is_Commuter'].value_counts()\n",
    "print(\"\\nCommuter vs. Non-Commuter Counts:\")\n",
    "print(commuter_counts)\n",
    "\n",
    "# Get percentages of commuters and non-commuters\n",
    "commuter_percentages = census_data['Is_Commuter'].value_counts(normalize=True) * 100\n",
    "print(\"\\nCommuter vs. Non-Commuter Percentages:\")\n",
    "print(commuter_percentages)\n",
    "\n",
    "# You can also filter the DataFrame to see the individuals in each category:\n",
    "commuters = census_data[census_data['Is_Commuter'] == 1]\n",
    "non_commuters = census_data[census_data['Is_Commuter'] == 0]\n",
    "\n",
    "print(\"\\nSample of Likely Commuters:\")\n",
    "print(commuters.head())\n",
    "\n",
    "print(\"\\nSample of Likely Non-Commuters:\")\n",
    "print(non_commuters.head())\n",
    "\n",
    "# Further analysis or visualization can be done using the 'Is_Commuter' column"
   ]
  },
  {
   "cell_type": "code",
   "execution_count": 133,
   "id": "78b00c36",
   "metadata": {},
   "outputs": [
    {
     "name": "stderr",
     "output_type": "stream",
     "text": [
      "C:\\Users\\WINDOW 10\\AppData\\Local\\Temp\\ipykernel_14792\\3615716851.py:4: FutureWarning: \n",
      "\n",
      "Passing `palette` without assigning `hue` is deprecated and will be removed in v0.14.0. Assign the `x` variable to `hue` and set `legend=False` for the same effect.\n",
      "\n",
      "  commuter_plot = sns.countplot(x='Is_Commuter', data=census_data, palette=palette_commuter)\n"
     ]
    },
    {
     "data": {
      "image/png": "[encoded data removed]",
      "text/plain": [
       "<Figure size 600x500 with 1 Axes>"
      ]
     },
     "metadata": {},
     "output_type": "display_data"
    }
   ],
   "source": [
    "# --- Plot for Commuters vs. Non-Commuters ---\n",
    "plt.figure(figsize=(6, 5))\n",
    "palette_commuter = sns.color_palette('Set2', 2) # Define a color palette with 2 colors\n",
    "commuter_plot = sns.countplot(x='Is_Commuter', data=census_data, palette=palette_commuter)\n",
    "plt.title(\"Estimated Commuter Population\", fontsize=14)\n",
    "plt.xticks([0, 1], ['Non-Commuters', 'Commuters'], fontsize=10)\n",
    "plt.xlabel('Commuter Status', fontsize=12)\n",
    "plt.ylabel('Number of Individuals', fontsize=12)\n",
    "\n",
    "# Annotate the bars with percentages\n",
    "total_population_commuter = len(census_data)\n",
    "for p in commuter_plot.patches:\n",
    "    percentage = f'{100 * p.get_height() / total_population_commuter:.1f}%'\n",
    "    x = p.get_x() + p.get_width() / 2\n",
    "    y = p.get_height()\n",
    "    commuter_plot.annotate(percentage, (x, y), ha='center', va='bottom', fontsize=9)\n",
    "\n",
    "plt.tight_layout()\n",
    "plt.savefig(\"commuter_plot.png\")\n",
    "plt.show()"
   ]
  },
  {
   "cell_type": "markdown",
   "id": "da7f7359",
   "metadata": {},
   "source": [
    "\n",
    "\n",
    "## Insights from Employment Data\n",
    "\n",
    "**Employed Population (51.8%)**: Just over half of the town’s population is currently employed. This group would directly benefit from improved transportation infrastructure, especially if they commute for work.\n",
    "\n",
    "**Economically Inactive Population (48.2%)**: While nearly half the population is classified as economically inactive, this includes groups such as children, students, retirees, and the unemployed, who may still rely on public transport for education, errands, and health services.\n",
    "\n",
    "**Unemployment Rate (7.0%)**: The relatively low unemployment rate suggests that a large portion of working-age individuals are active in the labor force, potentially commuting within or outside the community. This reinforces the need for efficient, reliable transport options.\n",
    "\n",
    "\n",
    "### Proposal: Build a Train Station\n",
    "\n",
    "### Justification for a Train Station\n",
    "Given the employment and demographic distribution:\n",
    "\n",
    " - A train station would support the majority who are employed and possibly commuting.\n",
    "\n",
    " - It would also serve students and university attendees, a significant sub-group of the economically inactive.\n",
    "\n",
    "- Retirees could benefit from easier access to nearby towns or healthcare services.\n",
    "\n",
    "The data supports the conclusion that a train station would enhance mobility for both the workforce and non-working residents, boosting accessibility and potentially increasing economic activity in the area."
   ]
  },
  {
   "cell_type": "markdown",
   "id": "4b09fe3c",
   "metadata": {},
   "source": [
    "## (b) Analysis For Investment"
   ]
  },
  {
   "cell_type": "code",
   "execution_count": null,
   "id": "f704728c",
   "metadata": {},
   "outputs": [
    {
     "name": "stdout",
     "output_type": "stream",
     "text": [
      "Unemployment Rate: 7.0%\n",
      "\n",
      "--- Demographic Comparison ---\n",
      "Total Population: 10024\n",
      "Students (all levels): 2458 (24.52%)\n",
      "Unemployed Individuals: 701 (6.99%)\n",
      "Older Citizens (65+): 1271 (12.68%)\n"
     ]
    }
   ],
   "source": [
    "#  Analyze Unemployment Rate \n",
    "unemployed_rate = (census_data['Occupation'] == 'Unemployed').mean() * 100\n",
    "print(f\"Unemployment Rate: {unemployed_rate:.1f}%\")\n",
    "\n",
    "#  Compare Students, Unemployed, and Older Citizens (65+)\n",
    "# Define student-related occupations\n",
    "student_roles = ['Student', 'University Student', 'PhD Student']\n",
    "\n",
    "# Clean 'Occupation' column by filling NaN values\n",
    "census_data['Occupation_clean'] = census_data['Occupation'].fillna('Not Specified')\n",
    "\n",
    "# Identify student, unemployed, and older citizen populations\n",
    "is_student = census_data['Occupation_clean'].isin(student_roles)\n",
    "is_unemployed = census_data['Occupation_clean'] == 'Unemployed'\n",
    "is_older_citizen = census_data['Age'] >= 65\n",
    "\n",
    "# Calculate counts for each group\n",
    "student_count = is_student.sum()\n",
    "unemployed_count = is_unemployed.sum()\n",
    "older_citizen_count = is_older_citizen.sum()\n",
    "total_population = census_data.shape[0]\n",
    "\n",
    "# Calculate percentages\n",
    "student_percent = (student_count / total_population) * 100\n",
    "unemployed_percent = (unemployed_count / total_population) * 100\n",
    "older_citizen_percent = (older_citizen_count / total_population) * 100\n",
    "\n",
    "# Print Summary Insights\n",
    "print(\"\\n--- Demographic Comparison ---\")\n",
    "print(f\"Total Population: {total_population}\")\n",
    "print(f\"Students (all levels): {student_count} ({student_percent:.2f}%)\")\n",
    "print(f\"Unemployed Individuals: {unemployed_count} ({unemployed_percent:.2f}%)\")\n",
    "print(f\"Older Citizens (65+): {older_citizen_count} ({older_citizen_percent:.2f}%)\")\n",
    "\n"
   ]
  },
  {
   "cell_type": "code",
   "execution_count": 125,
   "id": "1c386a59",
   "metadata": {},
   "outputs": [
    {
     "data": {
      "image/png": "[encoded data removed]",
      "text/plain": [
       "<Figure size 800x600 with 1 Axes>"
      ]
     },
     "metadata": {},
     "output_type": "display_data"
    }
   ],
   "source": [
    "# Now let's visualize the comparison of students, unemployed individuals, and older citizens (65+)\n",
    "labels = ['Students', 'Unemployed', 'Older Citizens (65+)']\n",
    "counts = [student_count, unemployed_count, older_citizen_count]\n",
    "colors = ['skyblue', 'salmon', 'lightgreen']\n",
    "\n",
    "plt.figure(figsize=(8, 6))\n",
    "plt.bar(labels, counts, color=colors)\n",
    "plt.title('Comparison of Students, Unemployed, and Older Citizens', fontsize=14)\n",
    "plt.ylabel('Number of Individuals', fontsize=12)\n",
    "plt.xlabel('Demographic Group', fontsize=12)\n",
    "plt.xticks(fontsize=10)\n",
    "plt.yticks(fontsize=10)\n",
    "\n",
    "# Add percentage labels on top of the bars\n",
    "for i, count in enumerate(counts):\n",
    "    percentage = f'{(count / total_population) * 100:.1f}%'\n",
    "    plt.text(i, count + 5, percentage, ha='center', fontsize=9)\n",
    "\n",
    "plt.tight_layout()\n",
    "plt.savefig('demographic_comparison.png')\n",
    "plt.show()"
   ]
  },
  {
   "cell_type": "markdown",
   "id": "b0b72af7",
   "metadata": {},
   "source": [
    "\n",
    "\n",
    "## Insights on Comparison\n",
    "\n",
    "**Students (24.5%)**: With nearly a quarter of the town's population currently enrolled in schooling including primary, secondary, and university levels this is the most significant group by occupation. Investing in education is therefore a strategic move with long-term economic benefits.\n",
    "\n",
    "**Unemployment Rate (7.0%)**: While relatively low, unemployment is disproportionately higher among women. This highlights the need to not only create more jobs but also empower women through education and vocational training to bridge the employment gap.\n",
    "\n",
    "**Senior Citizens (12.7%)**: A smaller yet important portion of the population is aged 65 and over—the typical retirement threshold in the UK ([source](https://www.raisin.co.uk/pensions/retirement-age/)). While elderly care is essential, the data suggests a younger, education-heavy population should be the primary focus.\n",
    "\n",
    "---\n",
    "\n",
    "### Proposal: Increase Spending for Schooling\n",
    "\n",
    "### Justification for Investing in Education\n",
    "\n",
    "Given the demographic structure and occupational breakdown:\n",
    "\n",
    "* **Human Capital Development**: Investing in schooling builds a skilled, adaptable workforce that can meet the future demands of the economy, from tech to healthcare to infrastructure development.\n",
    "\n",
    "* **Reduced Future Unemployment**: Better-educated individuals are more employable. Boosting school funding can indirectly lower the unemployment rate—especially among women—by enhancing career readiness and access.\n",
    "\n",
    "* **Social Equity and Inclusion**: Improving access to quality education ensures that all genders and socioeconomic groups have a fair opportunity to thrive, which contributes to long-term social cohesion and economic stability.\n",
    "\n",
    "* **Economic Multiplier Effect**: Education investment pays off with a higher tax base, lower crime rates, and a more informed citizenry that drives innovation and productivity.\n",
    "\n",
    "The data clearly supports prioritizing education investment to cultivate a sustainable, resilient, and equitable local economy.\n"
   ]
  }
 ],
 "metadata": {
  "kernelspec": {
   "display_name": ".venv",
   "language": "python",
   "name": "python3"
  },
  "language_info": {
   "codemirror_mode": {
    "name": "ipython",
    "version": 3
   },
   "file_extension": ".py",
   "mimetype": "text/x-python",
   "name": "python",
   "nbconvert_exporter": "python",
   "pygments_lexer": "ipython3",
   "version": "3.13.2"
  }
 },
 "nbformat": 4,
 "nbformat_minor": 5
}
